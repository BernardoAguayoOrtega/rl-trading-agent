{
 "cells": [
  {
   "cell_type": "markdown",
   "id": "ae380e31",
   "metadata": {
    "ExecuteTime": {
     "end_time": "2022-06-13T16:06:10.479647Z",
     "start_time": "2022-06-13T16:06:10.464646Z"
    }
   },
   "source": [
    "# SISTEMA INDICADORES TECNICOS"
   ]
  },
  {
   "cell_type": "markdown",
   "id": "d09f998c-fa84-45ce-a942-7d674a83a5fa",
   "metadata": {},
   "source": [
    "* Los indicadores tecnicos son la base del trading cuantitativo que no tiene nada que ver con el analisis tecnico\n",
    "* Todos los indicadores tecnicos se pueden construir\n",
    "* Son fuente de ideas\n",
    "* Existen librerias especializadas\n",
    "  * No es demasiado recompendable utilizar esas librerias\n",
    "    * Dependencias\n",
    "    * Cajas negras\n",
    "  * Librerias:\n",
    "    * pandas_ta\n",
    "    * finta\n",
    "    * talib"
   ]
  },
  {
   "cell_type": "markdown",
   "id": "bd9e6663",
   "metadata": {},
   "source": [
    "## Importaciones"
   ]
  },
  {
   "cell_type": "code",
   "execution_count": null,
   "id": "7efac465",
   "metadata": {
    "ExecuteTime": {
     "end_time": "2024-05-11T08:58:33.847683Z",
     "start_time": "2024-05-11T08:58:33.242272Z"
    }
   },
   "outputs": [],
   "source": [
    "import pandas as pd\n",
    "import numpy as np\n",
    "\n",
    "import warnings\n",
    "warnings.filterwarnings(\"ignore\")"
   ]
  },
  {
   "cell_type": "markdown",
   "id": "adc7a30a-75ea-422e-820c-685e9a0c512a",
   "metadata": {},
   "source": [
    "## Carga de datos"
   ]
  },
  {
   "cell_type": "code",
   "execution_count": null,
   "id": "69ed2590",
   "metadata": {
    "ExecuteTime": {
     "end_time": "2024-05-11T08:58:34.254567Z",
     "start_time": "2024-05-11T08:58:33.848652Z"
    }
   },
   "outputs": [],
   "source": [
    "data = pd.read_excel('dfAll.xlsx', index_col=0)\n",
    "data"
   ]
  },
  {
   "cell_type": "markdown",
   "id": "f5013f8a",
   "metadata": {},
   "source": [
    "## Precio"
   ]
  },
  {
   "cell_type": "markdown",
   "id": "bc909148",
   "metadata": {
    "ExecuteTime": {
     "end_time": "2022-06-13T16:30:45.323943Z",
     "start_time": "2022-06-13T16:30:45.309924Z"
    }
   },
   "source": [
    "### PctChg"
   ]
  },
  {
   "cell_type": "code",
   "execution_count": null,
   "id": "aacb9efd",
   "metadata": {
    "ExecuteTime": {
     "end_time": "2024-05-11T08:58:34.285485Z",
     "start_time": "2024-05-11T08:58:34.271523Z"
    }
   },
   "outputs": [],
   "source": [
    "periodo = 20\n",
    "\n",
    "data[f'pctChg{periodo}'] = data['Close'].pct_change(periodo) * 100\n",
    "\n",
    "data"
   ]
  },
  {
   "cell_type": "code",
   "execution_count": null,
   "id": "35ee55cd",
   "metadata": {
    "ExecuteTime": {
     "end_time": "2024-05-11T08:58:34.315405Z",
     "start_time": "2024-05-11T08:58:34.287484Z"
    }
   },
   "outputs": [],
   "source": [
    "data.drop(['pctChg20'], axis = 1, inplace = True)\n",
    "\n",
    "data"
   ]
  },
  {
   "cell_type": "code",
   "execution_count": null,
   "id": "b18e365f",
   "metadata": {
    "ExecuteTime": {
     "end_time": "2024-05-11T08:58:34.331362Z",
     "start_time": "2024-05-11T08:58:34.316401Z"
    }
   },
   "outputs": [],
   "source": [
    "def ocpPctChg(df, periodo = 1, borraNan = False, col = 'Close'):\n",
    "    \n",
    "    ''' return data'''\n",
    "    \n",
    "    df[f'pctChg{periodo}'] = df[col].pct_change(periodo) * 100\n",
    "    \n",
    "    if borraNan: df.dropna(inplace = True)\n",
    "        \n",
    "    return df"
   ]
  },
  {
   "cell_type": "code",
   "execution_count": null,
   "id": "cfb692b0-707d-4a68-8825-98fbb70f7632",
   "metadata": {},
   "outputs": [],
   "source": [
    "help(ocpPctChg)"
   ]
  },
  {
   "cell_type": "code",
   "execution_count": null,
   "id": "3b0559aa",
   "metadata": {
    "ExecuteTime": {
     "end_time": "2024-05-11T08:58:34.346322Z",
     "start_time": "2024-05-11T08:58:34.332359Z"
    }
   },
   "outputs": [],
   "source": [
    "data = ocpPctChg(data, periodo = 5)\n",
    "\n",
    "data"
   ]
  },
  {
   "cell_type": "markdown",
   "id": "08ec82f8-89c3-45d8-8a41-05fb1100d582",
   "metadata": {},
   "source": [
    "### Roi"
   ]
  },
  {
   "cell_type": "code",
   "execution_count": null,
   "id": "878b7995-de4f-4e72-aa50-180c40097bd9",
   "metadata": {},
   "outputs": [],
   "source": [
    "data['roi'] = data.Close.pct_change()\n",
    "data.dropna(inplace = True)\n",
    "\n",
    "data['roi'].iloc[0] = 0\n",
    "\n",
    "data['cvActivo'] = 100 * (1+data.roi).cumprod()\n",
    "\n",
    "data"
   ]
  },
  {
   "cell_type": "code",
   "execution_count": null,
   "id": "b66cdb43-a5cc-4a38-a184-ec1d90946ce4",
   "metadata": {},
   "outputs": [],
   "source": [
    "roiH = (data.Close[-1] - data.Close[0]) / data.Close[0] * 100\n",
    "roiH"
   ]
  },
  {
   "cell_type": "markdown",
   "id": "f7e55420-9faa-4dc6-a72b-2d8a2ef441cc",
   "metadata": {},
   "source": [
    "### CAGR"
   ]
  },
  {
   "cell_type": "code",
   "execution_count": null,
   "id": "7a473a35-7060-4d1e-9513-fdfb0d0f1e40",
   "metadata": {},
   "outputs": [],
   "source": [
    "years = ((data.index[-1] - data.index[0]).days) / 365\n",
    "cagr = ((data.cvActivo[-1] / data.cvActivo[0]) ** (1 / years)  - 1)*100\n",
    "cagr"
   ]
  },
  {
   "cell_type": "markdown",
   "id": "c6871db3",
   "metadata": {},
   "source": [
    "### DrawDown"
   ]
  },
  {
   "cell_type": "code",
   "execution_count": null,
   "id": "cc0085dc",
   "metadata": {
    "ExecuteTime": {
     "end_time": "2024-05-11T08:58:34.361282Z",
     "start_time": "2024-05-11T08:58:34.348317Z"
    }
   },
   "outputs": [],
   "source": [
    "def ocpDd(df, col):\n",
    "   \n",
    "    # DD con el low es mas preciso, puede ser con el close\n",
    "    \n",
    "    df['dd'] = ((df[col]/df[col].cummax()-1)*100).round(2) \n",
    "    \n",
    "    ddmax = int(df.dd.min())\n",
    "    ddmed = int(df.dd.mean())\n",
    "    \n",
    "    return df, ddmax, ddmed"
   ]
  },
  {
   "cell_type": "code",
   "execution_count": null,
   "id": "42edb84f-7441-41fb-aca4-35b02db68cf1",
   "metadata": {},
   "outputs": [],
   "source": [
    "data, ddmax, ddmed = ocpDd(data, 'cvActivo')\n",
    "\n",
    "display(data)\n",
    "\n",
    "print(ddmax, ddmed)"
   ]
  },
  {
   "cell_type": "markdown",
   "id": "3a8d17d4",
   "metadata": {},
   "source": [
    "## Medias"
   ]
  },
  {
   "cell_type": "code",
   "execution_count": null,
   "id": "d56e7fc4-9b6e-4909-82ff-546a71f56413",
   "metadata": {},
   "outputs": [],
   "source": [
    "data = pd.read_excel('dfAll.xlsx', index_col=0)\n",
    "data"
   ]
  },
  {
   "cell_type": "markdown",
   "id": "c53852ce",
   "metadata": {
    "ExecuteTime": {
     "end_time": "2022-06-13T16:06:39.109106Z",
     "start_time": "2022-06-13T16:06:39.103171Z"
    }
   },
   "source": [
    "### Sma (simple moving average)"
   ]
  },
  {
   "cell_type": "code",
   "execution_count": null,
   "id": "7f814e58",
   "metadata": {
    "ExecuteTime": {
     "end_time": "2024-05-11T08:58:34.393197Z",
     "start_time": "2024-05-11T08:58:34.378237Z"
    }
   },
   "outputs": [],
   "source": [
    "data['s20'] = data['Close'].rolling(20).mean()\n",
    "data"
   ]
  },
  {
   "cell_type": "code",
   "execution_count": null,
   "id": "4422eb5a",
   "metadata": {
    "ExecuteTime": {
     "end_time": "2024-05-11T08:58:34.409154Z",
     "start_time": "2024-05-11T08:58:34.395193Z"
    }
   },
   "outputs": [],
   "source": [
    "data.drop('s20', axis=1, inplace = True)\n",
    "\n",
    "data"
   ]
  },
  {
   "cell_type": "code",
   "execution_count": null,
   "id": "7c8586a0",
   "metadata": {
    "ExecuteTime": {
     "end_time": "2024-05-11T08:58:34.457026Z",
     "start_time": "2024-05-11T08:58:34.410152Z"
    }
   },
   "outputs": [],
   "source": [
    "def ocpSma(df, periodo = 20, borraNan = False, col = 'Close'):\n",
    "    \n",
    "    ''' return data'''\n",
    "    \n",
    "    df[f's{periodo}'] = df[col].rolling(periodo).mean()\n",
    "    \n",
    "    if borraNan: df.dropna(inplace = True)\n",
    "        \n",
    "    return df"
   ]
  },
  {
   "cell_type": "code",
   "execution_count": null,
   "id": "7d17a9da",
   "metadata": {
    "ExecuteTime": {
     "end_time": "2024-05-11T08:58:34.488941Z",
     "start_time": "2024-05-11T08:58:34.473981Z"
    }
   },
   "outputs": [],
   "source": [
    "data = ocpSma(data, 50)\n",
    "\n",
    "data"
   ]
  },
  {
   "cell_type": "markdown",
   "id": "c004708b",
   "metadata": {},
   "source": [
    "### Ewm (exponential moving average)"
   ]
  },
  {
   "cell_type": "code",
   "execution_count": null,
   "id": "4a254426",
   "metadata": {
    "ExecuteTime": {
     "end_time": "2024-05-11T08:58:34.504898Z",
     "start_time": "2024-05-11T08:58:34.489938Z"
    }
   },
   "outputs": [],
   "source": [
    "def ocpExp(df, periodo = 20, borraNan = False, col = 'Close'):\n",
    "    \n",
    "    ''' return data'''\n",
    "    \n",
    "    df[f'e{periodo}'] = df[col].ewm(span = periodo).mean()\n",
    "    \n",
    "    if borraNan: df.dropna(inplace = True)\n",
    "        \n",
    "    return df"
   ]
  },
  {
   "cell_type": "code",
   "execution_count": null,
   "id": "ff4221ee",
   "metadata": {
    "ExecuteTime": {
     "end_time": "2024-05-11T08:58:34.520855Z",
     "start_time": "2024-05-11T08:58:34.505895Z"
    }
   },
   "outputs": [],
   "source": [
    "data = ocpExp(data, 50)\n",
    "\n",
    "data"
   ]
  },
  {
   "cell_type": "markdown",
   "id": "b660d0ed-a992-4ed3-931c-6931cfe454ef",
   "metadata": {},
   "source": [
    "### Dema (media movil exponencial doble)"
   ]
  },
  {
   "cell_type": "raw",
   "id": "31b58b14-4cbd-4ad0-9c93-8481227f7c4b",
   "metadata": {},
   "source": [
    "El indicador tecnico DEMA fue diseñado para reducir el retraso en los resultados que produce la SMA. \n",
    "Se utiliza para disminuir la cantidad de “ ruido ” que puede distorsionar los movimientos en un grafico de precios.\n",
    "\n",
    "DEMA: media movil exponencial doble\n",
    "DEMA=2⋅EMA−EMA(EMA)\n",
    "\n",
    "Media movil exponencial doble: intenta eliminar el desfase asociado a las medias moviles dando mas peso a los valores recientes. \n",
    "\n",
    "El nombre sugiere que esto se logra mediante la aplicacion de un doble exponencial exponencial doble, lo que no es el caso. \n",
    "El nombre doble proviene del hecho de que el valor de una EMA (Media Movil Exponencial) se duplica.\n",
    "\n",
    "Para mantenerlo en linea con los datos reales y eliminar el desfase, el valor 'EMA de EMA' se resta de la EMA previamente duplicada."
   ]
  },
  {
   "cell_type": "code",
   "execution_count": null,
   "id": "2ec2747d-0a13-418c-a63f-a44e81e6e473",
   "metadata": {},
   "outputs": [],
   "source": [
    "def ocpDema(df, periodo = 200, borraNan = False, col = 'Close'):\n",
    "    \n",
    "    df = ocpExp(df, periodo)\n",
    "    \n",
    "    df[f'd{periodo}'] =2*df[f'e{periodo}']-df[f'e{periodo}'].ewm(span=periodo, adjust=True).mean()\n",
    "    \n",
    "    df.drop(f'e{periodo}', axis = 1, inplace = True)\n",
    "    \n",
    "    if borraNan: df.dropna(inplace = True)\n",
    "        \n",
    "    return df"
   ]
  },
  {
   "cell_type": "code",
   "execution_count": null,
   "id": "ebd56f7d-b71e-4e1b-bc17-5e863c5ef6a5",
   "metadata": {},
   "outputs": [],
   "source": [
    "data = ocpDema(data, 100)\n",
    "\n",
    "data"
   ]
  },
  {
   "cell_type": "markdown",
   "id": "4ad38790",
   "metadata": {},
   "source": [
    "### Wma (weighted moving average)"
   ]
  },
  {
   "cell_type": "code",
   "execution_count": null,
   "id": "bf00c9c9",
   "metadata": {
    "ExecuteTime": {
     "end_time": "2024-05-11T08:58:34.536813Z",
     "start_time": "2024-05-11T08:58:34.521853Z"
    }
   },
   "outputs": [],
   "source": [
    "def ocpWma(df, periodo = 20, borraNan = False, col = 'Close'):\n",
    "    \n",
    "    ''' return data'''\n",
    "    \n",
    "    pesos = np.arange(1, periodo+1)/np.arange(1, periodo+1).sum()\n",
    "    # si la wma es de 3, pesos = [1,2,3]/6\n",
    "    \n",
    "    df[f'w{periodo}'] = df[col].rolling(periodo).apply(lambda x: np.sum(pesos*x))\n",
    "    \n",
    "    if borraNan: df.dropna(inplace = True)\n",
    "        \n",
    "    return df"
   ]
  },
  {
   "cell_type": "code",
   "execution_count": null,
   "id": "d673843b",
   "metadata": {
    "ExecuteTime": {
     "end_time": "2024-05-11T08:58:34.881891Z",
     "start_time": "2024-05-11T08:58:34.537811Z"
    }
   },
   "outputs": [],
   "source": [
    "data = ocpWma(data, 20)\n",
    "\n",
    "data"
   ]
  },
  {
   "cell_type": "markdown",
   "id": "846772b2-e095-441c-960d-7b2e764e3993",
   "metadata": {},
   "source": [
    "### Hull"
   ]
  },
  {
   "cell_type": "code",
   "execution_count": null,
   "id": "198f1f5d-9ab4-48e0-afeb-10f36d85b1de",
   "metadata": {},
   "outputs": [],
   "source": [
    "def ocpHull(df, periodo = 20, borraNan = False, col = 'Close'):\n",
    "    \n",
    "    wma01 = df['Close'].rolling(periodo//2).apply(lambda x: \\\n",
    "                 np.sum(x * np.arange(1, periodo//2+1)) / np.sum(np.arange(1, periodo//2+1)), raw=True)\n",
    "\n",
    "    wma02 = df['Close'].rolling(periodo).apply(lambda x: \\\n",
    "                 np.sum(x * np.arange(1, periodo+1)) / np.sum(np.arange(1, periodo+1)), raw=True)\n",
    "    \n",
    "    diff = 2 * wma01 - wma02\n",
    "\n",
    "    df[f'h{periodo}'] = diff.rolling(int(np.sqrt(periodo))).mean()\n",
    "\n",
    "    if borraNan: df.dropna(inplace = True)\n",
    "    \n",
    "    return df"
   ]
  },
  {
   "cell_type": "code",
   "execution_count": null,
   "id": "3d6f98f7-6fd1-4340-ad7d-10c3d0503b34",
   "metadata": {},
   "outputs": [],
   "source": [
    "data = ocpHull(data, 5)\n",
    "\n",
    "data"
   ]
  },
  {
   "cell_type": "markdown",
   "id": "4c351198",
   "metadata": {
    "ExecuteTime": {
     "end_time": "2022-06-13T18:36:55.714012Z",
     "start_time": "2022-06-13T18:36:55.697743Z"
    }
   },
   "source": [
    "## Volatilidad"
   ]
  },
  {
   "cell_type": "code",
   "execution_count": null,
   "id": "73758d61-545e-4906-ad58-cfddde4c13a0",
   "metadata": {},
   "outputs": [],
   "source": [
    "data = pd.read_excel('dfAll.xlsx', index_col=0)\n",
    "data"
   ]
  },
  {
   "cell_type": "markdown",
   "id": "7a26e39f",
   "metadata": {},
   "source": [
    "### Std (standard deviation = volatilidad)"
   ]
  },
  {
   "cell_type": "code",
   "execution_count": null,
   "id": "0b890a99",
   "metadata": {
    "ExecuteTime": {
     "end_time": "2024-05-11T08:58:34.897848Z",
     "start_time": "2024-05-11T08:58:34.882888Z"
    }
   },
   "outputs": [],
   "source": [
    "def ocpStd(df, periodo = 20, borraNan = False, col = 'Close'):\n",
    "    \n",
    "    ''' return data'''\n",
    "    \n",
    "    df['pctChg'] = df[col].pct_change(periodo) * 100\n",
    "    df[f'std{periodo}'] = df['pctChg'].rolling(periodo).std()\n",
    "    \n",
    "    df.drop(['pctChg'], axis = 1, inplace= True)\n",
    "    \n",
    "    if borraNan: df.dropna(inplace = True)\n",
    "        \n",
    "    return df"
   ]
  },
  {
   "cell_type": "code",
   "execution_count": null,
   "id": "ee0b3e91",
   "metadata": {
    "ExecuteTime": {
     "end_time": "2024-05-11T08:58:34.913805Z",
     "start_time": "2024-05-11T08:58:34.898845Z"
    }
   },
   "outputs": [],
   "source": [
    "data = ocpStd(data)\n",
    "data"
   ]
  },
  {
   "cell_type": "markdown",
   "id": "8fdb42d8",
   "metadata": {},
   "source": [
    "### Bb (bollinger bands)"
   ]
  },
  {
   "cell_type": "code",
   "execution_count": null,
   "id": "dc9c851d",
   "metadata": {
    "ExecuteTime": {
     "end_time": "2024-05-11T08:58:34.929762Z",
     "start_time": "2024-05-11T08:58:34.914802Z"
    }
   },
   "outputs": [],
   "source": [
    "def ocpBb(df, periodo = 20, desvios = 2,  borraNan = False, col = 'Close'):\n",
    "    \n",
    "    df[f'bs{periodo}'] = df[col].rolling(periodo).mean()\n",
    "    vola = df[col].rolling(periodo).std()\n",
    "    \n",
    "    df['bInf'] = df[f'bs{periodo}'] - desvios * vola\n",
    "    df['bSup'] = df[f'bs{periodo}'] + desvios * vola\n",
    "    \n",
    "    if borraNan: df.dropna(inplace = True)\n",
    "   \n",
    "    return df"
   ]
  },
  {
   "cell_type": "code",
   "execution_count": null,
   "id": "2db8152e",
   "metadata": {
    "ExecuteTime": {
     "end_time": "2024-05-11T08:58:34.945720Z",
     "start_time": "2024-05-11T08:58:34.930760Z"
    }
   },
   "outputs": [],
   "source": [
    "data = ocpBb(data)\n",
    "data"
   ]
  },
  {
   "cell_type": "markdown",
   "id": "2a0612b0",
   "metadata": {},
   "source": [
    "### Atr (average true range)"
   ]
  },
  {
   "cell_type": "code",
   "execution_count": null,
   "id": "653a7af6",
   "metadata": {
    "ExecuteTime": {
     "end_time": "2024-05-11T08:58:34.961678Z",
     "start_time": "2024-05-11T08:58:34.948712Z"
    }
   },
   "outputs": [],
   "source": [
    "def ocpAtr(df, periodo = 14, borraNan = False):\n",
    "    \n",
    "    ''' return data'''\n",
    "    \n",
    "    df['atrHL']= abs(df.High-df.Low) # no es necesario abs, siempre positivo\n",
    "    df['atrHC']= abs(df.High-df.Close.shift())\n",
    "    df['atrLC']= abs(df.Low-df.Close.shift())\n",
    "    \n",
    "    df['atrMax']= df[['atrHL', 'atrHC', 'atrLC']].max(axis=1)\n",
    "    df[f'atr{periodo}']= df.atrMax.ewm(span = periodo, adjust = False).mean()\n",
    "    # data[f'atr{periodo}'] = data.atrMax.rolling(periodo).mean()\n",
    "        \n",
    "    df['atrMaxP']= df[['atrHL', 'atrHC', 'atrLC']].max(axis=1)/df.Close\n",
    "    df[f'atr%{periodo}']= df.atrMaxP.ewm(span = periodo, adjust = False).mean()\n",
    "    # data[f'atr%{periodo}']= data.atrMaxP.rolling(periodo).mean()\n",
    "    \n",
    "    df.drop(['atrHL', 'atrHC', 'atrLC', 'atrMax', 'atrMaxP'], axis = 1, inplace= True)\n",
    "    \n",
    "    if borraNan: df.dropna(inplace = True)\n",
    "        \n",
    "    return df"
   ]
  },
  {
   "cell_type": "code",
   "execution_count": null,
   "id": "b677301d",
   "metadata": {
    "ExecuteTime": {
     "end_time": "2024-05-11T08:58:34.992595Z",
     "start_time": "2024-05-11T08:58:34.963672Z"
    }
   },
   "outputs": [],
   "source": [
    "data = ocpAtr(data)\n",
    "data"
   ]
  },
  {
   "cell_type": "markdown",
   "id": "11092859-7475-494f-b7a6-1e47111d9510",
   "metadata": {},
   "source": [
    "## Rangueando precio"
   ]
  },
  {
   "cell_type": "code",
   "execution_count": null,
   "id": "5427511b-1b85-49fb-b048-4f61099fac8c",
   "metadata": {},
   "outputs": [],
   "source": [
    "data = pd.read_excel('dfAll.xlsx', index_col=0)\n",
    "data"
   ]
  },
  {
   "cell_type": "markdown",
   "id": "f2ab6c25-8b07-4ca8-8c4c-3ea435dafbf8",
   "metadata": {},
   "source": [
    "### Max y Min"
   ]
  },
  {
   "cell_type": "code",
   "execution_count": null,
   "id": "903019da-397e-46fb-a5dc-2bd8344c3237",
   "metadata": {},
   "outputs": [],
   "source": [
    "def ocpMaxMin(df, periodo, colMax = 'Close', colMin = 'Close', borraNan = False):\n",
    "\n",
    "    ''' return data'''\n",
    "    \n",
    "    # OJO no llamar max y min a las columnas porque son metodos de panda y data.min data.max no hara lo esperado\n",
    "    df['rgMax'] = df[colMax].rolling(periodo).max()\n",
    "    df['rgMin'] = df[colMin].rolling(periodo).min()\n",
    "\n",
    "    if borraNan: df.dropna(inplace = True)\n",
    "\n",
    "    return df"
   ]
  },
  {
   "cell_type": "code",
   "execution_count": null,
   "id": "02d9db6e-c247-454a-91da-e02a09fe559e",
   "metadata": {},
   "outputs": [],
   "source": [
    "data = ocpMaxMin(data, 20, 'High', 'Low')\n",
    "\n",
    "data"
   ]
  },
  {
   "cell_type": "markdown",
   "id": "7b67540f-8499-48ec-9bfd-c050921945fc",
   "metadata": {
    "execution": {
     "iopub.execute_input": "2025-05-21T14:30:39.138440Z",
     "iopub.status.busy": "2025-05-21T14:30:39.137441Z",
     "iopub.status.idle": "2025-05-21T14:30:39.141742Z",
     "shell.execute_reply": "2025-05-21T14:30:39.141742Z",
     "shell.execute_reply.started": "2025-05-21T14:30:39.138440Z"
    }
   },
   "source": [
    "### Normalizacion"
   ]
  },
  {
   "cell_type": "code",
   "execution_count": null,
   "id": "8b875379-02aa-4ecc-96b6-bd3666cd8e89",
   "metadata": {},
   "outputs": [],
   "source": [
    "data['rgNormal'] = (data.Close - data.rgMin) / (data.rgMax - data.rgMin)\n",
    "\n",
    "data"
   ]
  },
  {
   "cell_type": "markdown",
   "id": "6943f7e5-0372-482e-8dbe-b4598382d412",
   "metadata": {},
   "source": [
    "### Estandarizacion (Z-Score)"
   ]
  },
  {
   "cell_type": "code",
   "execution_count": null,
   "id": "142649eb-7fe8-41c4-8f0a-2305e403b60c",
   "metadata": {},
   "outputs": [],
   "source": [
    "def ocpZscore(df, periodo = 20, col = 'Close', borraNan = False):\n",
    "    \n",
    "    mean = df[col].rolling(periodo).mean()\n",
    "    std = df[col].rolling(periodo).std()\n",
    "    \n",
    "    df['zscore'] = (df[col] - mean) / std\n",
    "\n",
    "    if borraNan: df.dropna(inplace = True)\n",
    "        \n",
    "    return df"
   ]
  },
  {
   "cell_type": "code",
   "execution_count": null,
   "id": "2cc14399-3736-4069-801f-7dcdb9165634",
   "metadata": {},
   "outputs": [],
   "source": [
    "data = ocpZscore(data)\n",
    "\n",
    "data"
   ]
  },
  {
   "cell_type": "markdown",
   "id": "083eb179-58ac-4233-9c35-91700b78852e",
   "metadata": {},
   "source": [
    "# Clasicos"
   ]
  },
  {
   "cell_type": "code",
   "execution_count": null,
   "id": "66cd80b5-388a-4c87-be26-2728e2c21b04",
   "metadata": {},
   "outputs": [],
   "source": [
    "data = pd.read_excel('dfAll.xlsx', index_col=0)\n",
    "data"
   ]
  },
  {
   "cell_type": "markdown",
   "id": "c3cb4848",
   "metadata": {},
   "source": [
    "## Roc (rate of change)"
   ]
  },
  {
   "cell_type": "code",
   "execution_count": null,
   "id": "601936f3",
   "metadata": {
    "ExecuteTime": {
     "end_time": "2024-05-11T08:58:35.274840Z",
     "start_time": "2024-05-11T08:58:33.282Z"
    }
   },
   "outputs": [],
   "source": [
    "def ocpRoc(df, periodo = 5, borraNan = False, col = 'Close'):\n",
    "    \n",
    "    ''' return data'''\n",
    "    \n",
    "    df[f'roc{periodo}'] = df[col].pct_change(periodo) * 100\n",
    "    \n",
    "    if borraNan: df.dropna(inplace = True)\n",
    "        \n",
    "    return df"
   ]
  },
  {
   "cell_type": "code",
   "execution_count": null,
   "id": "60aef174",
   "metadata": {
    "ExecuteTime": {
     "end_time": "2024-05-11T08:58:35.275838Z",
     "start_time": "2024-05-11T08:58:33.284Z"
    }
   },
   "outputs": [],
   "source": [
    "data = ocpRoc(data)\n",
    "data"
   ]
  },
  {
   "cell_type": "markdown",
   "id": "9e402c0b",
   "metadata": {},
   "source": [
    "## Rsi (relative strength index)"
   ]
  },
  {
   "cell_type": "code",
   "execution_count": null,
   "id": "7bc796f5",
   "metadata": {
    "ExecuteTime": {
     "end_time": "2024-05-11T08:58:35.276836Z",
     "start_time": "2024-05-11T08:58:33.285Z"
    }
   },
   "outputs": [],
   "source": [
    "def ocpRsi(df, periodo = 14, borraNan = False, col = 'Close'):\n",
    "    \n",
    "    ''' return data'''\n",
    "    \n",
    "    df['dif'] = df[col].diff()\n",
    "\n",
    "    df['win'] = np.where(df['dif'] > 0, df['dif'], 0)\n",
    "    df['loss'] = np.where(df['dif'] < 0, abs(df['dif']), 0)\n",
    "    df['emaWin'] = df.win.ewm(span = periodo).mean()\n",
    "    df['emaLoss'] = df.loss.ewm(span = periodo).mean()\n",
    "    df['rs'] = df.emaWin / df.emaLoss\n",
    "\n",
    "    df[f'rsi{periodo}'] = 100 - (100 / (1+df.rs))\n",
    "\n",
    "    df.drop(['dif', 'win', 'loss', 'emaWin', 'emaLoss', 'rs'], axis = 1, inplace = True)\n",
    "\n",
    "    if borraNan: df.dropna(inplace = True)\n",
    "\n",
    "    return df"
   ]
  },
  {
   "cell_type": "code",
   "execution_count": null,
   "id": "58bd012d",
   "metadata": {
    "ExecuteTime": {
     "end_time": "2024-05-11T08:58:35.276836Z",
     "start_time": "2024-05-11T08:58:33.287Z"
    }
   },
   "outputs": [],
   "source": [
    "data = ocpRsi(data, 5)\n",
    "data"
   ]
  },
  {
   "cell_type": "markdown",
   "id": "7a92f5d2",
   "metadata": {},
   "source": [
    "## Macd (moving  convergence / divergence)"
   ]
  },
  {
   "cell_type": "code",
   "execution_count": null,
   "id": "5add5e89",
   "metadata": {
    "ExecuteTime": {
     "end_time": "2024-05-11T08:58:35.277834Z",
     "start_time": "2024-05-11T08:58:33.288Z"
    }
   },
   "outputs": [],
   "source": [
    "def ocpMacd(df, fast = 12, slow = 26, suavizado = 9, borraNan = False, col = 'Close'):\n",
    "    \n",
    "    ''' return data'''\n",
    "\n",
    "    df['emaFast'] = df[col].ewm(span = fast).mean()\n",
    "    df['emaSlow'] = df[col].ewm(span = slow).mean()\n",
    "    \n",
    "    df[f'macd{fast}{slow}{suavizado}'] = df.emaFast - df.emaSlow\n",
    "    df['signal'] = df[f'macd{fast}{slow}{suavizado}'].ewm(span = suavizado).mean()\n",
    "    \n",
    "    df['mTrend'] = np.where(df[f'macd{fast}{slow}{suavizado}']>df['signal'], 'A', 'B')\n",
    "    \n",
    "    df['histoM'] = df[f'macd{fast}{slow}{suavizado}'] - df.signal\n",
    "    \n",
    "    df['mHisTrend']=np.where((df.histoM > 0) & (df.histoM > df.histoM.shift()), 'A',\n",
    "                            np.where((df.histoM > 0) & (df.histoM <= df.histoM.shift()),'L',\n",
    "                            np.where((df.histoM < 0) & (df.histoM <= df.histoM.shift()),'B','I')))\n",
    "    \n",
    "    df.drop(['emaFast', 'emaSlow', 'histoM'], axis = 1, inplace = True)\n",
    "    \n",
    "    if borraNan: df.dropna(inplace = True)\n",
    "    \n",
    "    return df"
   ]
  },
  {
   "cell_type": "code",
   "execution_count": null,
   "id": "e260f28b",
   "metadata": {
    "ExecuteTime": {
     "end_time": "2024-05-11T08:58:35.278830Z",
     "start_time": "2024-05-11T08:58:33.289Z"
    }
   },
   "outputs": [],
   "source": [
    "data = ocpMacd(data)\n",
    "data"
   ]
  },
  {
   "cell_type": "markdown",
   "id": "c513ff03-1e22-43c2-8591-dc4c31328b57",
   "metadata": {
    "execution": {
     "iopub.execute_input": "2025-05-20T09:24:14.396020Z",
     "iopub.status.busy": "2025-05-20T09:24:14.395023Z",
     "iopub.status.idle": "2025-05-20T09:24:14.398402Z",
     "shell.execute_reply": "2025-05-20T09:24:14.398402Z",
     "shell.execute_reply.started": "2025-05-20T09:24:14.396020Z"
    }
   },
   "source": [
    "## Coppock curve"
   ]
  },
  {
   "cell_type": "code",
   "execution_count": null,
   "id": "92cedc40-326a-4bcf-9ff2-1724fed7d2c2",
   "metadata": {},
   "outputs": [],
   "source": [
    "def ocpCop(df, periodo = 10, tipo = 'ponderada',  borraNan = False, col = 'Close'):\n",
    "\n",
    "    \n",
    "    '''\n",
    "    El tradicional es 14 11 10 en timeframe mensual\n",
    "    \n",
    "    Cop Diario  -> 12 6 10\n",
    "    cop Semanal en vista diaria -> 60 30 50  \n",
    "    cop Mensual en vista diaria -> 252 126 210\n",
    "\n",
    "    '''\n",
    "    cop  = int(periodo)\n",
    "    slow = int(periodo/10*12)\n",
    "    fast = int(periodo/10*6)\n",
    "\n",
    "    df['ROC1'] = (df[col]/df[col].shift(fast) -1)*100\n",
    "    df['ROC2'] = (df[col]/df[col].shift(slow) -1)*100\n",
    "\n",
    "    data['suma']= df.ROC1 + df.ROC2\n",
    "\n",
    "    if tipo == 'ponderada':\n",
    "        \n",
    "        # media pondedarada de suma\n",
    "        pesos = np.arange(1, cop + 1)/np.arange(1, cop +1).sum()\n",
    "        df['cop'] = df.suma.rolling(cop).apply(lambda x: np.sum(pesos*x))\n",
    "        \n",
    "    if tipo == 'exponencial':\n",
    "\n",
    "        df['cop'] = (df.suma).ewm(span=cop, min_periods=cop).mean()\n",
    "        \n",
    "    \n",
    "    df['cTrend'] = np.where(df.cop > df.cop.shift(), 'A', 'B')\n",
    "    \n",
    "    df['cHisTrend']= np.where((df.cop>=0) & (df.cop.diff()>=0), 'A',np.where((df.cop>0) & (df.cop.diff()<0),'L',\n",
    "                          np.where((df.cop<=0) & (df.cop.diff()<=0), 'B','I'))) \n",
    "    \n",
    "    df.drop(['ROC1', 'ROC2', 'suma'],axis=1, inplace= True)\n",
    "    \n",
    "    if borraNan: df.dropna(inplace = True)\n",
    "    \n",
    "    return df\n"
   ]
  },
  {
   "cell_type": "code",
   "execution_count": null,
   "id": "2236c9b5-4e44-4872-a521-1beefca7a5fc",
   "metadata": {},
   "outputs": [],
   "source": [
    "data = ocpCop(data)\n",
    "data"
   ]
  },
  {
   "cell_type": "markdown",
   "id": "17a7cf76-e846-4e79-8c72-6bff70b46ee9",
   "metadata": {},
   "source": [
    "## Stochastic"
   ]
  },
  {
   "cell_type": "code",
   "execution_count": null,
   "id": "4f21ec86",
   "metadata": {
    "ExecuteTime": {
     "end_time": "2024-05-11T08:58:35.007554Z",
     "start_time": "2024-05-11T08:58:34.993592Z"
    }
   },
   "outputs": [],
   "source": [
    "def ocpStochastic(df, N=14, M=3, borraNan = False):\n",
    "    \n",
    "    df['lowN']  = df['Low'].rolling(N).min()\n",
    "    df['highN'] = df['High'].rolling(N).max()\n",
    "    \n",
    "    df['K'] = 100 * (df['Close'] - df['lowN']) / (df['highN'] - df['lowN'])\n",
    "    df['D'] = df['K'].rolling(M).mean()\n",
    "    \n",
    "    df.drop(['lowN', 'highN'], axis = 1, inplace = True)\n",
    "\n",
    "    if borraNan: df.dropna(inplace = True)\n",
    "    \n",
    "    return df"
   ]
  },
  {
   "cell_type": "code",
   "execution_count": null,
   "id": "bd8b4821",
   "metadata": {
    "ExecuteTime": {
     "end_time": "2024-05-11T08:59:15.828548Z",
     "start_time": "2024-05-11T08:59:15.798625Z"
    }
   },
   "outputs": [],
   "source": [
    "data = ocpStochastic(data)\n",
    "data"
   ]
  },
  {
   "cell_type": "markdown",
   "id": "516e5acd-bd54-4704-9731-e7d7dcebff51",
   "metadata": {},
   "source": [
    "## Adx"
   ]
  },
  {
   "cell_type": "code",
   "execution_count": null,
   "id": "2ad45159",
   "metadata": {
    "ExecuteTime": {
     "end_time": "2024-05-11T08:58:35.272846Z",
     "start_time": "2024-05-11T08:58:33.279Z"
    }
   },
   "outputs": [],
   "source": [
    "def ocpAdx(df, periodo = 14, borraNan = False):\n",
    "\n",
    "    # calculo del atr\n",
    "    df['atrHL'] = abs(df.High-df.Low) # no es necesario abs, siempre positivo\n",
    "    df['atrHC'] = abs(df.High-df.Close.shift())\n",
    "    df['atrLC'] = abs(df.Low-df.Close.shift())\n",
    "    \n",
    "    df['atrMax']= df[['atrHL', 'atrHC', 'atrLC']].max(axis=1)\n",
    "    #data['atr']= data.atrMax.ewm(span = periodo, adjust = False).mean()       \n",
    "    df['atr'] = df.atrMax.rolling(periodo).mean()\n",
    "    \n",
    "    # calculo de acx\n",
    "    df['plusDm'] = df.High.diff()\n",
    "    df['minusDm'] = df.Low.diff()\n",
    "    df.plusDm[df.plusDm < 0] = 0\n",
    "    df.minusDm[df.minusDm > 0] = 0\n",
    "    \n",
    "    df['plusDi'] = 100 * (df.plusDm.ewm(alpha = 1/periodo).mean() / df.atr)\n",
    "    df['minusDi'] = abs(100 * (df.minusDm.ewm(alpha = 1/periodo).mean() / df.atr))\n",
    "    \n",
    "    df['dx'] = (abs(data.plusDi - data.minusDi) / abs(data.plusDi + data.minusDi)) * 100\n",
    "    \n",
    "    df['adxIni'] = ((df.dx.shift(1) * (periodo - 1)) + df.dx) / periodo\n",
    "    \n",
    "    df['adx'] = df.adxIni.ewm(alpha = 1/periodo).mean()\n",
    "    \n",
    "    # las columnas auxiliares del atr\n",
    "    df.drop(['atrHL', 'atrHC', 'atrLC', 'atrMax', 'atr'], axis = 1, inplace= True)\n",
    "    \n",
    "    # las columnas auxiliares del adx\n",
    "    df.drop(['plusDm', 'minusDm', 'dx', 'adxIni'], axis = 1, inplace= True)\n",
    "    \n",
    "    if borraNan: df.dropna(inplace = True)\n",
    "    \n",
    "    return df"
   ]
  },
  {
   "cell_type": "code",
   "execution_count": null,
   "id": "d6e4967b",
   "metadata": {
    "ExecuteTime": {
     "end_time": "2024-05-11T08:58:35.273844Z",
     "start_time": "2024-05-11T08:58:33.281Z"
    }
   },
   "outputs": [],
   "source": [
    "data = ocpAdx(data, 14)\n",
    "data"
   ]
  },
  {
   "cell_type": "markdown",
   "id": "d6f3737a-290f-4e51-927f-a277ce62ed8a",
   "metadata": {},
   "source": [
    "## Parabolic Sar"
   ]
  },
  {
   "cell_type": "code",
   "execution_count": null,
   "id": "234e4134-f503-4aea-9d66-7287ce7e36a0",
   "metadata": {},
   "outputs": [],
   "source": [
    "def ocpParabolicSar(df, psarCol='psar01', afStart=0.02, afIncrement=0.02, afMax=0.2, highCol='High', lowCol='Low' ):\n",
    "    \"\"\"\n",
    "    Añade la columna Parabolic SAR a un DataFrame existente\n",
    "\n",
    "    Parámetros:\n",
    "    - df: DataFrame con datos OHLC\n",
    "    - highCol: Nombre de la columna de precios máximos (default: 'High')\n",
    "    - lowCol: Nombre de la columna de precios mínimos (default: 'Low')\n",
    "    - psarCol: Nombre de la columna PSAR a crear (default: 'psar01')\n",
    "    - afStart: Factor de aceleración inicial (default: 0.02)\n",
    "    - afIncrement: Incremento del factor de aceleración (default: 0.02)\n",
    "    - afMax: Factor de aceleración máximo (default: 0.2)\n",
    "\n",
    "    Retorna:\n",
    "    - DataFrame original con columna PSAR añadida\n",
    "    \"\"\"\n",
    "\n",
    "    # Inicializar columnas temporales\n",
    "    df['_trendTemp'] = 0\n",
    "    df['_afTemp'] = 0.0\n",
    "    df['_epTemp'] = 0.0\n",
    "    df[psarCol] = 0.0\n",
    "\n",
    "    # Obtener primer índice\n",
    "    firstIdx = df.index[0]\n",
    "\n",
    "    # Valores iniciales\n",
    "    df.loc[firstIdx, psarCol] = df.loc[firstIdx, lowCol]\n",
    "    df.loc[firstIdx, '_trendTemp'] = 1\n",
    "    df.loc[firstIdx, '_afTemp'] = afStart\n",
    "    df.loc[firstIdx, '_epTemp'] = df.loc[firstIdx, highCol]\n",
    "\n",
    "    # Iterar por todos los índices excepto el primero\n",
    "    for i in df.index:\n",
    "        if i == firstIdx:\n",
    "            continue\n",
    "\n",
    "        # Obtener índices anteriores\n",
    "        prevIdx = df.index[df.index.get_loc(i) - 1]\n",
    "        prev2Idx = df.index[df.index.get_loc(i) - 2] if df.index.get_loc(i) > 1 else prevIdx\n",
    "\n",
    "        # Calcular PSAR\n",
    "        prevPsar = df.loc[prevIdx, psarCol]\n",
    "        prevAf = df.loc[prevIdx, '_afTemp']\n",
    "        prevEp = df.loc[prevIdx, '_epTemp']\n",
    "\n",
    "        currentPsar = prevPsar + prevAf * (prevEp - prevPsar)\n",
    "\n",
    "        currentHigh = df.loc[i, highCol]\n",
    "        currentLow = df.loc[i, lowCol]\n",
    "        prevTrend = df.loc[prevIdx, '_trendTemp']\n",
    "\n",
    "        if prevTrend == 1:  # Uptrend\n",
    "            if currentLow <= currentPsar:\n",
    "                # Cambio a downtrend\n",
    "                df.loc[i, '_trendTemp'] = -1\n",
    "                df.loc[i, psarCol] = prevEp\n",
    "                df.loc[i, '_afTemp'] = afStart\n",
    "                df.loc[i, '_epTemp'] = currentLow\n",
    "            else:\n",
    "                # Continúa uptrend\n",
    "                df.loc[i, '_trendTemp'] = 1\n",
    "\n",
    "                if currentHigh > prevEp:\n",
    "                    df.loc[i, '_epTemp'] = currentHigh\n",
    "                    df.loc[i, '_afTemp'] = min(prevAf + afIncrement, afMax)\n",
    "                else:\n",
    "                    df.loc[i, '_epTemp'] = prevEp\n",
    "                    df.loc[i, '_afTemp'] = prevAf\n",
    "\n",
    "                # Ajustar PSAR\n",
    "                prevLow = df.loc[prevIdx, lowCol]\n",
    "                prev2Low = df.loc[prev2Idx, lowCol]\n",
    "                adjustedPsar = min(currentPsar, prevLow, prev2Low)\n",
    "                df.loc[i, psarCol] = adjustedPsar\n",
    "\n",
    "        else:  # Downtrend\n",
    "            if currentHigh >= currentPsar:\n",
    "                # Cambio a uptrend\n",
    "                df.loc[i, '_trendTemp'] = 1\n",
    "                df.loc[i, psarCol] = prevEp\n",
    "                df.loc[i, '_afTemp'] = afStart\n",
    "                df.loc[i, '_epTemp'] = currentHigh\n",
    "            else:\n",
    "                # Continúa downtrend\n",
    "                df.loc[i, '_trendTemp'] = -1\n",
    "\n",
    "                if currentLow < prevEp:\n",
    "                    df.loc[i, '_epTemp'] = currentLow\n",
    "                    df.loc[i, '_afTemp'] = min(prevAf + afIncrement, afMax)\n",
    "                else:\n",
    "                    df.loc[i, '_epTemp'] = prevEp\n",
    "                    df.loc[i, '_afTemp'] = prevAf\n",
    "\n",
    "                # Ajustar PSAR\n",
    "                prevHigh = df.loc[prevIdx, highCol]\n",
    "                prev2High = df.loc[prev2Idx, highCol]\n",
    "                adjustedPsar = max(currentPsar, prevHigh, prev2High)\n",
    "                df.loc[i, psarCol] = adjustedPsar\n",
    "\n",
    "    # Eliminar columnas temporales\n",
    "    df.drop(['_trendTemp', '_afTemp', '_epTemp'], axis=1, inplace=True)\n",
    "\n",
    "    return df\n",
    "\n",
    "\n",
    "\n",
    "import pandas_ta as ta\n",
    "\n",
    "def ocpParabolicSarTa(df, psarCol='psar05', afStart=0.02, afIncrement=0.02, afMax=0.2, highCol='High', lowCol='Low', ):\n",
    "    \"\"\"\n",
    "    Añade la columna Parabolic SAR usando pandas_ta\n",
    "\n",
    "    Parámetros:\n",
    "    - df: DataFrame con datos OHLC\n",
    "    - highCol: Nombre de la columna de precios máximos (default: 'High')\n",
    "    - lowCol: Nombre de la columna de precios mínimos (default: 'Low')\n",
    "    - psarCol: Nombre de la columna PSAR a crear (default: 'psar01')\n",
    "    - afStart: Factor de aceleración inicial (default: 0.02)\n",
    "    - afIncrement: Incremento del factor de aceleración (default: 0.02)\n",
    "    - afMax: Factor de aceleración máximo (default: 0.2)\n",
    "\n",
    "    Retorna:\n",
    "    - DataFrame original con columna PSAR añadida\n",
    "    \"\"\"\n",
    "\n",
    "    # Calcular PSAR usando pandas_ta\n",
    "    psarResult = ta.psar(\n",
    "        high=df[highCol],\n",
    "        low=df[lowCol],\n",
    "        af0=afStart,\n",
    "        af=afIncrement,\n",
    "        max_af=afMax\n",
    "    )\n",
    "\n",
    "    # Obtener columnas Long y Short\n",
    "    psarLong = psarResult[f'PSARl_{afStart}_{afMax}']\n",
    "    psarShort = psarResult[f'PSARs_{afStart}_{afMax}']\n",
    "\n",
    "    # Combinar usando np.where: si PSARl no es NaN, usar PSARl, sino usar PSARs\n",
    "    df[psarCol] = np.where(psarLong.notna(), psarLong, psarShort)\n",
    "\n",
    "    df['psTrend'] = np.where(psarLong.notna(), 'bull', 'bear')\n",
    "\n",
    "    return df\n"
   ]
  },
  {
   "cell_type": "code",
   "execution_count": null,
   "id": "88ae9dc3-f6ae-460f-8215-caf5e2f73fa1",
   "metadata": {},
   "outputs": [],
   "source": [
    "data = ocpParabolicSar(data)\n",
    "data = ocpParabolicSarTa(data, 'psar02')\n",
    "data"
   ]
  },
  {
   "cell_type": "code",
   "execution_count": null,
   "id": "86c6cf11-c22b-4465-bb69-96f4e646f90e",
   "metadata": {},
   "outputs": [],
   "source": [
    "dg = data.tail(100)\n",
    "\n",
    "dg.Close.plot()\n",
    "dg.psar01.plot()"
   ]
  },
  {
   "cell_type": "markdown",
   "id": "39a5cd0f",
   "metadata": {
    "ExecuteTime": {
     "end_time": "2022-06-13T18:14:39.474809Z",
     "start_time": "2022-06-13T18:14:39.458718Z"
    }
   },
   "source": [
    "# Funcion indicadores"
   ]
  },
  {
   "cell_type": "raw",
   "id": "cbfc1f35-f096-4423-a150-a41b77573f69",
   "metadata": {},
   "source": [
    "- crear un archivo ocpIndicadoresTecnico.py\n",
    "- NO ERROR:  .ipynb\n",
    "\n",
    "import ocpIndicadoresTecnico as ocpInd\n",
    "\n",
    "ocpInd.ocpSma(df)\n",
    "\n",
    "ocpInd.ocpMacd(df)"
   ]
  },
  {
   "cell_type": "code",
   "execution_count": null,
   "id": "60a10f85",
   "metadata": {
    "ExecuteTime": {
     "end_time": "2024-05-11T08:58:35.281823Z",
     "start_time": "2024-05-11T08:58:33.292Z"
    }
   },
   "outputs": [],
   "source": [
    "data = pd.read_excel('dfAll.xlsx', index_col=0)\n",
    "data"
   ]
  },
  {
   "cell_type": "code",
   "execution_count": null,
   "id": "b2eeae53",
   "metadata": {
    "ExecuteTime": {
     "end_time": "2024-05-11T08:58:35.281823Z",
     "start_time": "2024-05-11T08:58:33.294Z"
    }
   },
   "outputs": [],
   "source": [
    "def ocpIndicadoresTecnicos(df):\n",
    "    \n",
    "    df = ocpSma(df, 20)\n",
    "    df = ocpExp(df, 50)\n",
    "    df = ocpWma(df, 150)\n",
    "    \n",
    "    df = ocpPctChg(df)\n",
    "    \n",
    "    df = ocpStd(df)\n",
    "    df = ocpBb(df)\n",
    "    df = ocpAtr(df)\n",
    "    \n",
    "    df = ocpRoc(df)\n",
    "    df = ocpRsi(df)\n",
    "    \n",
    "    # aquí si borro nan\n",
    "    df = ocpMacd(df, borraNan= True) \n",
    "    \n",
    "    return df"
   ]
  },
  {
   "cell_type": "code",
   "execution_count": null,
   "id": "504c9ea7",
   "metadata": {
    "ExecuteTime": {
     "end_time": "2024-05-11T08:58:35.282820Z",
     "start_time": "2024-05-11T08:58:33.295Z"
    }
   },
   "outputs": [],
   "source": [
    "data = ocpIndicadoresTecnicos(data)\n",
    "data.round(2)"
   ]
  },
  {
   "cell_type": "markdown",
   "id": "01a148a2",
   "metadata": {},
   "source": [
    "# Librerias especializadas"
   ]
  },
  {
   "cell_type": "markdown",
   "id": "a4e45f9c",
   "metadata": {
    "ExecuteTime": {
     "end_time": "2022-06-14T14:06:29.179280Z",
     "start_time": "2022-06-14T14:06:29.167238Z"
    }
   },
   "source": [
    "## pandas_ta"
   ]
  },
  {
   "cell_type": "raw",
   "id": "512b9093",
   "metadata": {
    "ExecuteTime": {
     "end_time": "2022-06-14T14:13:14.922690Z",
     "start_time": "2022-06-14T14:13:14.909040Z"
    }
   },
   "source": [
    "- es compatible con TA-Lib y tiene dependencia de ella\n",
    "- el reconocimiento de velas lo hace con TA-Lib"
   ]
  },
  {
   "cell_type": "code",
   "execution_count": null,
   "id": "39ed8657",
   "metadata": {
    "ExecuteTime": {
     "end_time": "2024-05-11T08:58:35.284815Z",
     "start_time": "2024-05-11T08:58:33.305Z"
    }
   },
   "outputs": [],
   "source": [
    "#!pip install pandas_ta"
   ]
  },
  {
   "cell_type": "code",
   "execution_count": null,
   "id": "e9896d0e",
   "metadata": {
    "ExecuteTime": {
     "end_time": "2024-05-11T08:58:35.285813Z",
     "start_time": "2024-05-11T08:58:33.306Z"
    }
   },
   "outputs": [],
   "source": [
    "import pandas_ta as ta"
   ]
  },
  {
   "cell_type": "code",
   "execution_count": null,
   "id": "8f1f22db",
   "metadata": {
    "ExecuteTime": {
     "end_time": "2024-05-11T08:58:35.286809Z",
     "start_time": "2024-05-11T08:58:33.307Z"
    },
    "scrolled": true
   },
   "outputs": [],
   "source": [
    "help(ta)"
   ]
  },
  {
   "cell_type": "code",
   "execution_count": null,
   "id": "a743c2c2",
   "metadata": {
    "ExecuteTime": {
     "end_time": "2024-05-11T08:58:35.288806Z",
     "start_time": "2024-05-11T08:58:33.310Z"
    }
   },
   "outputs": [],
   "source": [
    "data.ta.indicators()"
   ]
  },
  {
   "cell_type": "code",
   "execution_count": null,
   "id": "4c903a4b",
   "metadata": {
    "ExecuteTime": {
     "end_time": "2024-05-11T08:58:35.289801Z",
     "start_time": "2024-05-11T08:58:33.311Z"
    },
    "scrolled": true
   },
   "outputs": [],
   "source": [
    "listadoIndicadores = data.ta.indicators(as_list=True)\n",
    "listadoIndicadores"
   ]
  },
  {
   "cell_type": "code",
   "execution_count": null,
   "id": "ae025eaa",
   "metadata": {
    "ExecuteTime": {
     "end_time": "2024-05-11T08:58:35.289801Z",
     "start_time": "2024-05-11T08:58:33.313Z"
    }
   },
   "outputs": [],
   "source": [
    "help(ta.bbands)"
   ]
  },
  {
   "cell_type": "code",
   "execution_count": null,
   "id": "ee61f764",
   "metadata": {
    "ExecuteTime": {
     "end_time": "2024-05-11T08:58:35.290799Z",
     "start_time": "2024-05-11T08:58:33.314Z"
    }
   },
   "outputs": [],
   "source": [
    "data.ta.bbands().tail()"
   ]
  },
  {
   "cell_type": "code",
   "execution_count": null,
   "id": "a7cfcdf9",
   "metadata": {
    "ExecuteTime": {
     "end_time": "2024-05-11T08:58:35.291797Z",
     "start_time": "2024-05-11T08:58:33.315Z"
    }
   },
   "outputs": [],
   "source": [
    "data.ta.sma(length = 20).tail()"
   ]
  },
  {
   "cell_type": "code",
   "execution_count": null,
   "id": "7655163b",
   "metadata": {
    "ExecuteTime": {
     "end_time": "2024-05-11T08:58:35.292793Z",
     "start_time": "2024-05-11T08:58:33.317Z"
    }
   },
   "outputs": [],
   "source": [
    "data.ta.ema(length = 20).tail()"
   ]
  },
  {
   "cell_type": "code",
   "execution_count": null,
   "id": "96cf3984",
   "metadata": {
    "ExecuteTime": {
     "end_time": "2024-05-11T08:58:35.292793Z",
     "start_time": "2024-05-11T08:58:33.318Z"
    }
   },
   "outputs": [],
   "source": [
    "data.ta.macd().tail()"
   ]
  },
  {
   "cell_type": "code",
   "execution_count": null,
   "id": "3ee24261",
   "metadata": {
    "ExecuteTime": {
     "end_time": "2024-05-11T08:58:35.293790Z",
     "start_time": "2024-05-11T08:58:33.319Z"
    }
   },
   "outputs": [],
   "source": [
    "sma10 = ta.sma(data['Close'], length=10)\n",
    "sma10"
   ]
  },
  {
   "cell_type": "code",
   "execution_count": null,
   "id": "07ec1714",
   "metadata": {
    "ExecuteTime": {
     "end_time": "2024-05-11T08:58:35.294788Z",
     "start_time": "2024-05-11T08:58:33.320Z"
    }
   },
   "outputs": [],
   "source": [
    "data = data.ta.cdl_pattern(name='all')\n",
    "data"
   ]
  },
  {
   "cell_type": "markdown",
   "id": "711de08d",
   "metadata": {},
   "source": [
    "## finta"
   ]
  },
  {
   "cell_type": "raw",
   "id": "267e9a8c",
   "metadata": {},
   "source": [
    "Dependeincias con pandas"
   ]
  },
  {
   "cell_type": "code",
   "execution_count": null,
   "id": "a6b0e977",
   "metadata": {
    "ExecuteTime": {
     "end_time": "2024-05-11T08:58:35.295786Z",
     "start_time": "2024-05-11T08:58:33.329Z"
    }
   },
   "outputs": [],
   "source": [
    "#!pip install finta"
   ]
  },
  {
   "cell_type": "code",
   "execution_count": null,
   "id": "a32137e4",
   "metadata": {
    "ExecuteTime": {
     "end_time": "2024-05-11T08:58:35.296782Z",
     "start_time": "2024-05-11T08:58:33.331Z"
    }
   },
   "outputs": [],
   "source": [
    "from finta import TA"
   ]
  },
  {
   "cell_type": "code",
   "execution_count": null,
   "id": "4bcdc0d7",
   "metadata": {
    "ExecuteTime": {
     "end_time": "2024-05-11T08:58:35.296782Z",
     "start_time": "2024-05-11T08:58:33.333Z"
    },
    "scrolled": true
   },
   "outputs": [],
   "source": [
    "help(TA)"
   ]
  },
  {
   "cell_type": "code",
   "execution_count": null,
   "id": "7d52b134",
   "metadata": {
    "ExecuteTime": {
     "end_time": "2024-05-11T08:58:35.297780Z",
     "start_time": "2024-05-11T08:58:33.335Z"
    }
   },
   "outputs": [],
   "source": [
    "data = pd.read_excel('dfAll.xlsx', index_col=0)\n",
    "data"
   ]
  },
  {
   "cell_type": "code",
   "execution_count": null,
   "id": "80614e50",
   "metadata": {
    "ExecuteTime": {
     "end_time": "2024-05-11T08:58:35.298777Z",
     "start_time": "2024-05-11T08:58:33.336Z"
    }
   },
   "outputs": [],
   "source": [
    "# Error por que busca open y es Open\n",
    "\n",
    "bbands = TA.BBANDS(data, 30)\n",
    "bbands"
   ]
  },
  {
   "cell_type": "code",
   "execution_count": null,
   "id": "2d63f0db",
   "metadata": {
    "ExecuteTime": {
     "end_time": "2024-05-11T08:58:35.299775Z",
     "start_time": "2024-05-11T08:58:33.337Z"
    }
   },
   "outputs": [],
   "source": [
    "sma = TA.SMA(data, 30)\n",
    "sma"
   ]
  },
  {
   "cell_type": "code",
   "execution_count": null,
   "id": "c9dca916",
   "metadata": {
    "ExecuteTime": {
     "end_time": "2024-05-11T08:58:35.299775Z",
     "start_time": "2024-05-11T08:58:33.338Z"
    }
   },
   "outputs": [],
   "source": [
    "help(TA.SMA)"
   ]
  },
  {
   "cell_type": "markdown",
   "id": "4d6a4a63",
   "metadata": {},
   "source": [
    "## talib"
   ]
  },
  {
   "cell_type": "raw",
   "id": "9578ab55-4894-400e-9130-adaab27c1539",
   "metadata": {
    "ExecuteTime": {
     "end_time": "2024-05-11T08:58:35.300772Z",
     "start_time": "2024-05-11T08:58:33.340Z"
    }
   },
   "source": [
    "Es super incompatible con un monton de librerias, si puedes no la uses"
   ]
  },
  {
   "cell_type": "code",
   "execution_count": null,
   "id": "b123b126",
   "metadata": {
    "ExecuteTime": {
     "end_time": "2024-05-11T08:58:35.301769Z",
     "start_time": "2024-05-11T08:58:33.341Z"
    }
   },
   "outputs": [],
   "source": [
    "#!pip install ta-Lib"
   ]
  },
  {
   "cell_type": "code",
   "execution_count": null,
   "id": "500f168f",
   "metadata": {},
   "outputs": [],
   "source": []
  },
  {
   "cell_type": "code",
   "execution_count": null,
   "id": "f0392b21-a0a6-4385-9219-5aa70cf4dd21",
   "metadata": {},
   "outputs": [],
   "source": []
  },
  {
   "cell_type": "code",
   "execution_count": null,
   "id": "28f0082c-9742-459f-acc2-4b54cf629144",
   "metadata": {},
   "outputs": [],
   "source": []
  },
  {
   "cell_type": "code",
   "execution_count": null,
   "id": "82f755b9-6273-4d95-9597-6036b3ec4ff0",
   "metadata": {},
   "outputs": [],
   "source": []
  },
  {
   "cell_type": "code",
   "execution_count": null,
   "id": "35d8f7f3-c24e-49de-bc32-2b2a9e252746",
   "metadata": {},
   "outputs": [],
   "source": []
  }
 ],
 "metadata": {
  "hide_input": false,
  "kernelspec": {
   "display_name": "Python (inicial)",
   "language": "python",
   "name": "inicial"
  },
  "language_info": {
   "codemirror_mode": {
    "name": "ipython",
    "version": 3
   },
   "file_extension": ".py",
   "mimetype": "text/x-python",
   "name": "python",
   "nbconvert_exporter": "python",
   "pygments_lexer": "ipython3",
   "version": "3.12.4"
  },
  "toc": {
   "base_numbering": 1,
   "nav_menu": {},
   "number_sections": true,
   "sideBar": true,
   "skip_h1_title": false,
   "title_cell": "Table of Contents",
   "title_sidebar": "Contents",
   "toc_cell": false,
   "toc_position": {
    "height": "calc(100% - 180px)",
    "left": "10px",
    "top": "150px",
    "width": "304.438px"
   },
   "toc_section_display": true,
   "toc_window_display": true
  },
  "varInspector": {
   "cols": {
    "lenName": 16,
    "lenType": 16,
    "lenVar": 40
   },
   "kernels_config": {
    "python": {
     "delete_cmd_postfix": "",
     "delete_cmd_prefix": "del ",
     "library": "var_list.py",
     "varRefreshCmd": "print(var_dic_list())"
    },
    "r": {
     "delete_cmd_postfix": ") ",
     "delete_cmd_prefix": "rm(",
     "library": "var_list.r",
     "varRefreshCmd": "cat(var_dic_list()) "
    }
   },
   "types_to_exclude": [
    "module",
    "function",
    "builtin_function_or_method",
    "instance",
    "_Feature"
   ],
   "window_display": false
  }
 },
 "nbformat": 4,
 "nbformat_minor": 5
}
